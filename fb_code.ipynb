{
 "cells": [
  {
   "cell_type": "code",
   "execution_count": 1,
   "id": "bc4bde3a",
   "metadata": {
    "ExecuteTime": {
     "end_time": "2022-07-23T07:58:41.092537Z",
     "start_time": "2022-07-23T07:58:40.941696Z"
    }
   },
   "outputs": [],
   "source": [
    "import facebook"
   ]
  },
  {
   "cell_type": "code",
   "execution_count": 2,
   "id": "d60423e6",
   "metadata": {
    "ExecuteTime": {
     "end_time": "2022-07-23T07:58:42.864701Z",
     "start_time": "2022-07-23T07:58:42.859192Z"
    }
   },
   "outputs": [],
   "source": [
    "import json"
   ]
  },
  {
   "cell_type": "code",
   "execution_count": 3,
   "id": "36070a24",
   "metadata": {
    "ExecuteTime": {
     "end_time": "2022-07-23T07:58:44.683932Z",
     "start_time": "2022-07-23T07:58:43.492322Z"
    }
   },
   "outputs": [
    {
     "name": "stderr",
     "output_type": "stream",
     "text": [
      "/Applications/Utilities/anaconda3/lib/python3.8/site-packages/pandas/compat/_optional.py:161: UserWarning: Pandas requires version '2.7.1' or newer of 'numexpr' (version '2.7.0' currently installed).\n",
      "  warnings.warn(msg, UserWarning)\n"
     ]
    }
   ],
   "source": [
    "import pandas as pd "
   ]
  },
  {
   "cell_type": "code",
   "execution_count": 46,
   "id": "a730fdd1",
   "metadata": {
    "ExecuteTime": {
     "end_time": "2022-07-23T08:46:00.114958Z",
     "start_time": "2022-07-23T08:45:59.409122Z"
    }
   },
   "outputs": [
    {
     "name": "stdout",
     "output_type": "stream",
     "text": [
      "{'name': 'RC Salman', 'email': 'salmansprit18@gmail.com', 'first_name': 'RC', 'last_name': 'Salman', 'id': '1591536131240217'}\n"
     ]
    }
   ],
   "source": [
    "token=\"EAAs0ZCkZApPoUBAMZBjMYpxR7T7JhtaZBpZBlGJxQ6jffwchNv2QzAiwTr9efwDNJ6bNS4feBWwPyMdkkJ6hXA4cfsMApGsaCUZAKgvZCiEP8kGeteflvVUKyVNJyir2dPB4YTB1gDMnyZA9TVZBlqR87lX4mvUztEbL3ZBbmC4pkpT3LHiDLIGVtsQnU9wlHpj7lIAQ7QtV4xnf9RAxNsdw0yM4PAM0KqM7ZCo1y6V9j0FeLjESbfAOVRa\"\n",
    "graph=facebook.GraphAPI(token)\n",
    "profile=graph.get_object('me',fields='name,email,location,link,first_name,last_name')\n",
    "#profile=json.dumps(profile,indent=4)\n",
    "print(profile)\n"
   ]
  },
  {
   "cell_type": "code",
   "execution_count": 47,
   "id": "b6ef8396",
   "metadata": {
    "ExecuteTime": {
     "end_time": "2022-07-23T08:46:01.720438Z",
     "start_time": "2022-07-23T08:46:01.711970Z"
    }
   },
   "outputs": [
    {
     "data": {
      "text/plain": [
       "dict"
      ]
     },
     "execution_count": 47,
     "metadata": {},
     "output_type": "execute_result"
    }
   ],
   "source": [
    "type(profile)"
   ]
  },
  {
   "cell_type": "code",
   "execution_count": 53,
   "id": "0b6916ab",
   "metadata": {
    "ExecuteTime": {
     "end_time": "2022-07-23T08:48:09.654609Z",
     "start_time": "2022-07-23T08:48:09.645773Z"
    }
   },
   "outputs": [
    {
     "data": {
      "text/plain": [
       "'RC Salman'"
      ]
     },
     "execution_count": 53,
     "metadata": {},
     "output_type": "execute_result"
    }
   ],
   "source": [
    "profile['name']"
   ]
  },
  {
   "cell_type": "code",
   "execution_count": 58,
   "id": "878e4d2e",
   "metadata": {
    "ExecuteTime": {
     "end_time": "2022-07-23T08:49:37.359436Z",
     "start_time": "2022-07-23T08:49:37.353574Z"
    }
   },
   "outputs": [],
   "source": [
    "result=pd.DataFrame(profile,index=range(0,1))"
   ]
  },
  {
   "cell_type": "code",
   "execution_count": 59,
   "id": "191223fd",
   "metadata": {
    "ExecuteTime": {
     "end_time": "2022-07-23T08:49:45.070058Z",
     "start_time": "2022-07-23T08:49:45.055500Z"
    }
   },
   "outputs": [
    {
     "data": {
      "text/html": [
       "<div>\n",
       "<style scoped>\n",
       "    .dataframe tbody tr th:only-of-type {\n",
       "        vertical-align: middle;\n",
       "    }\n",
       "\n",
       "    .dataframe tbody tr th {\n",
       "        vertical-align: top;\n",
       "    }\n",
       "\n",
       "    .dataframe thead th {\n",
       "        text-align: right;\n",
       "    }\n",
       "</style>\n",
       "<table border=\"1\" class=\"dataframe\">\n",
       "  <thead>\n",
       "    <tr style=\"text-align: right;\">\n",
       "      <th></th>\n",
       "      <th>name</th>\n",
       "      <th>email</th>\n",
       "      <th>first_name</th>\n",
       "      <th>last_name</th>\n",
       "      <th>id</th>\n",
       "    </tr>\n",
       "  </thead>\n",
       "  <tbody>\n",
       "    <tr>\n",
       "      <th>0</th>\n",
       "      <td>RC Salman</td>\n",
       "      <td>salmansprit18@gmail.com</td>\n",
       "      <td>RC</td>\n",
       "      <td>Salman</td>\n",
       "      <td>1591536131240217</td>\n",
       "    </tr>\n",
       "  </tbody>\n",
       "</table>\n",
       "</div>"
      ],
      "text/plain": [
       "        name                    email first_name last_name                id\n",
       "0  RC Salman  salmansprit18@gmail.com         RC    Salman  1591536131240217"
      ]
     },
     "execution_count": 59,
     "metadata": {},
     "output_type": "execute_result"
    }
   ],
   "source": [
    "result"
   ]
  },
  {
   "cell_type": "code",
   "execution_count": 63,
   "id": "f0e2cc00",
   "metadata": {
    "ExecuteTime": {
     "end_time": "2022-07-23T08:51:33.022041Z",
     "start_time": "2022-07-23T08:51:33.004655Z"
    }
   },
   "outputs": [],
   "source": [
    "resul_csv=result.to_csv(r\"Desktop/fb_result.csv\")"
   ]
  }
 ],
 "metadata": {
  "kernelspec": {
   "display_name": "Python 3",
   "language": "python",
   "name": "python3"
  },
  "language_info": {
   "codemirror_mode": {
    "name": "ipython",
    "version": 3
   },
   "file_extension": ".py",
   "mimetype": "text/x-python",
   "name": "python",
   "nbconvert_exporter": "python",
   "pygments_lexer": "ipython3",
   "version": "3.8.8"
  },
  "varInspector": {
   "cols": {
    "lenName": 16,
    "lenType": 16,
    "lenVar": 40
   },
   "kernels_config": {
    "python": {
     "delete_cmd_postfix": "",
     "delete_cmd_prefix": "del ",
     "library": "var_list.py",
     "varRefreshCmd": "print(var_dic_list())"
    },
    "r": {
     "delete_cmd_postfix": ") ",
     "delete_cmd_prefix": "rm(",
     "library": "var_list.r",
     "varRefreshCmd": "cat(var_dic_list()) "
    }
   },
   "types_to_exclude": [
    "module",
    "function",
    "builtin_function_or_method",
    "instance",
    "_Feature"
   ],
   "window_display": false
  }
 },
 "nbformat": 4,
 "nbformat_minor": 5
}
